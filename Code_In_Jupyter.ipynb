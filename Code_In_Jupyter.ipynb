{
 "cells": [
  {
   "cell_type": "markdown",
   "metadata": {},
   "source": [
    "# This is the Capstone Project For Third Semester "
   ]
  },
  {
   "cell_type": "markdown",
   "metadata": {},
   "source": [
    "# Welcome To: Sentiment Analysis for Predicting Bitcoin Values"
   ]
  },
  {
   "cell_type": "markdown",
   "metadata": {},
   "source": [
    "Importing the Required Libraries"
   ]
  },
  {
   "cell_type": "code",
   "execution_count": 1,
   "metadata": {},
   "outputs": [],
   "source": [
    "# Libraries for Visualization and Mathematical Problems\n",
    "import tweepy\n",
    "import json\n",
    "import csv\n",
    "import re\n",
    "import pandas as pd\n",
    "import nltk\n",
    "import numpy as np \n",
    "import textblob\n",
    "import matplotlib.pyplot as plt \n",
    "\n",
    "# Libraries for Modeling and Sentiment Analysis\n",
    "from textblob import TextBlob\n",
    "\n",
    "from sklearn.svm import SVC\n",
    "from sklearn import metrics   \n",
    "from sklearn.pipeline import Pipeline\n",
    "from sklearn.preprocessing import StandardScaler\n",
    "from sklearn.model_selection import train_test_split\n",
    "import sklearn.model_selection\n",
    "from sklearn import preprocessing, metrics, svm, tree, ensemble\n",
    "\n",
    "#Libraries for Neural Networks\n",
    "\n",
    "#from keras.models import Sequential\n",
    "# from keras.layers import Dense"
   ]
  },
  {
   "cell_type": "markdown",
   "metadata": {},
   "source": [
    "Building the API for requesting data from Twitter(## DON'T RUN IT AGAIN IF ONCE DONE##)"
   ]
  },
  {
   "cell_type": "code",
   "execution_count": 2,
   "metadata": {},
   "outputs": [],
   "source": [
    "#auth =  tweepy.auth.OAuthHandler('RHFekehJM9sXk5zcc7TDuEbeD', 'M2gI9MC8XVpnzzYu2X7phyquraY02SCsNOFseQWt6ZEmjIpduP')\n",
    "\n",
    "# auth.set_access_token('1085752350759804929-2iLtD4lsamgXJzXvEh4rvBCzakDJg8', 'gfKcQzcBoV07evCB0O8CIR4SWZVGMxvNpZpI9JTEiCosu')\n",
    "\n",
    "# #Build API to fetch desired tweet and save it in a CSV file.\n",
    "# api = tweepy.API(auth, wait_on_rate_limit=True)\n",
    "\n",
    "# tweets = open('Bit_Tweets_Dated.csv', 'a')\n",
    "# write_tweets = csv.writer(tweets)\n",
    "# for tweet in tweepy.Cursor(api.search, q = 'bitcoin', lang = 'en').items():\n",
    "#     write_tweets.writerow([tweet.text.encode('utf-8')])\n",
    "# tweets.close()"
   ]
  },
  {
   "cell_type": "markdown",
   "metadata": {},
   "source": [
    "Read The CSV file for fetched TWEETS."
   ]
  },
  {
   "cell_type": "code",
   "execution_count": 3,
   "metadata": {},
   "outputs": [
    {
     "name": "stdout",
     "output_type": "stream",
     "text": [
      "                                                text\n",
      "0  b'BTC/USD Orderbook Density - Asks: $99922/$ w...\n",
      "1  b'Top 6 BTC/USD Exchange Orderbooks: Resistanc...\n",
      "2  b'Watch \"Cape Coral man becomes millionaire wi...\n",
      "3  b'Hey its the top of the hour time to beg mrbe...\n",
      "4  b'Bitcoin news which you should not miss.\\n#BT...\n",
      "                                                text\n",
      "0  b'BTC/USD Orderbook Density - Asks: $99922/$ w...\n",
      "1  b'Top 6 BTC/USD Exchange Orderbooks: Resistanc...\n",
      "2  b'Watch \"Cape Coral man becomes millionaire wi...\n",
      "3  b'Hey its the top of the hour time to beg mrbe...\n",
      "4  b'Bitcoin news which you should not miss.\\n#BT...\n"
     ]
    }
   ],
   "source": [
    "df = pd.read_csv(\"Bit_Tweets_Dated.csv\", sep=',', \n",
    "                   names = ['text'])\n",
    "#print(df.head())\n",
    "df = pd.DataFrame(df['text'])\n",
    "print(df.head())\n",
    "\n",
    "#Clean out the empty row if any.\n",
    "df = df.dropna(axis = 0, how = 'any')\n",
    "print(df.head())"
   ]
  },
  {
   "cell_type": "markdown",
   "metadata": {},
   "source": [
    "# PreProcessing the Text Data (Text Mining)"
   ]
  },
  {
   "cell_type": "code",
   "execution_count": 6,
   "metadata": {},
   "outputs": [
    {
     "name": "stdout",
     "output_type": "stream",
     "text": [
      "<class 'pandas.core.frame.DataFrame'>\n",
      "Int64Index: 16501 entries, 0 to 16500\n",
      "Data columns (total 1 columns):\n",
      "text    16501 non-null object\n",
      "dtypes: object(1)\n",
      "memory usage: 193.4+ KB\n",
      "None\n",
      "CLEANED TWEETS:  \n",
      "                                                 text\n",
      "0  BTC USD Orderbook Density Asks 99922 within 39...\n",
      "1  Top 6 BTC USD Exchange Orderbooks Resistance t...\n",
      "2  Watch Cape Coral man becomes millionaire with ...\n",
      "3  Hey its the top of the hour time to beg mrbeas...\n",
      "4  Bitcoin news which you should not miss n BTC b...\n"
     ]
    }
   ],
   "source": [
    "def clean_tweet(data): \n",
    "        ''' \n",
    "        Function to clean tweet text by removing links, special characters \n",
    "        using simple regex statements. \n",
    "        '''\n",
    "        return ' '.join(re.sub(\"(@[A-Za-z0-9]+)|([^0-9A-Za-z \\t])|(\\w+:\\/\\/\\S+)\", \" \", data).split())\n",
    "\n",
    "df['text'] = df['text'].apply(lambda x:x.replace('\\n','') )\n",
    "# Remove b' as it is Meanig-less and not Required. \n",
    "df['text'] = df['text'].apply(lambda x:x.replace(\"b'\",''))\n",
    "\n",
    "df['text'] = df['text'].apply(clean_tweet)\n",
    "print(df.info())\n",
    "print(\"CLEANED TWEETS: \",'\\n',df.head())"
   ]
  },
  {
   "cell_type": "markdown",
   "metadata": {},
   "source": [
    "# Getting The Sentiments of Tweets."
   ]
  },
  {
   "cell_type": "code",
   "execution_count": 17,
   "metadata": {},
   "outputs": [
    {
     "name": "stdout",
     "output_type": "stream",
     "text": [
      "   POLARITY\n",
      "0  0.000000\n",
      "1  0.500000\n",
      "2  0.000000\n",
      "3  0.500000\n",
      "4  0.000000\n",
      "5  0.250000\n",
      "6  0.000000\n",
      "7  0.153333\n",
      "8  0.300000\n",
      "9  0.250000\n"
     ]
    }
   ],
   "source": [
    "# Build a function that will give out Polarity of Sentiments\n",
    "def senti_analysis(tweet):\n",
    "    \"\"\"This function will return the Polarity of the sentiments of tweet \"\"\"\n",
    "    return TextBlob(tweet).sentiment.polarity\n",
    "#Create a empty list to store the polarities of the sentiments\n",
    "a =[]\n",
    "i = 0\n",
    "for i in df['text']:\n",
    "    \n",
    "    pol = senti_analysis(i)\n",
    "    a.append(pol)\n",
    "\n",
    "#print(a)   \n",
    "#Convert the above list into a dataframe\n",
    "df2 = pd.DataFrame({'POLARITY':a})\n",
    "POLS=[]\n",
    "for j in df['text']:    \n",
    "    if TextBlob(str(j)).sentiment.polarity > 0:\n",
    "        POLS.append(1)\n",
    "    elif TextBlob(str(j)).sentiment.polarity == 0:\n",
    "         POLS.append(0)\n",
    "    else:\n",
    "        POLS.append(-1)\n",
    "    #print(analysis)\n",
    "    \n",
    " \n",
    "df3 = pd.DataFrame({'Senti':POLS})   \n",
    "print(df2.head(10))\n"
   ]
  },
  {
   "cell_type": "markdown",
   "metadata": {},
   "source": [
    "Reading The Historical Data of BitCoin (Got From Kaggle)\n",
    "And Fetching the Desired Columns"
   ]
  },
  {
   "cell_type": "code",
   "execution_count": 18,
   "metadata": {},
   "outputs": [
    {
     "name": "stdout",
     "output_type": "stream",
     "text": [
      "    Timestamp  Volume_(BTC)     Open_Val  Weighted_Price\n",
      "0  1542542160      1.103599  5517.801061     5518.610000\n",
      "1  1542542220      3.218251  5517.979676     5517.801061\n",
      "2  1542542280      1.823813  5515.205192     5517.979676\n",
      "3  1542542340      4.256536  5513.669804     5514.205192\n",
      "4  1542542400      2.436331  5518.173452     5513.669804\n"
     ]
    }
   ],
   "source": [
    "Bit_Vals =pd.read_csv(\"Bit_Values.csv\")\n",
    "\n",
    "print(Bit_Vals.head())\n",
    "df_time = Bit_Vals[\"Timestamp\"]\n",
    "BIT_Volume =Bit_Vals[\"Volume_(BTC)\"]\n",
    "BIT_Open_Price = Bit_Vals[\"Open_Val\"]\n",
    "BIT_Price = Bit_Vals[\"Weighted_Price\"]\n",
    "#Fillin the empty values With the Mean\n",
    "BIT_Price = BIT_Price.fillna(BIT_Price.mean())"
   ]
  },
  {
   "cell_type": "markdown",
   "metadata": {},
   "source": [
    "##### Building the Final DataFrames "
   ]
  },
  {
   "cell_type": "code",
   "execution_count": 20,
   "metadata": {},
   "outputs": [
    {
     "name": "stdout",
     "output_type": "stream",
     "text": [
      "    Timestamp  POLARITY  Volume_(BTC)  Weighted_Price  Senti\n",
      "0  1542542160       0.0      1.103599     5518.610000    0.0\n",
      "1  1542542220       0.5      3.218251     5517.801061    1.0\n",
      "2  1542542280       0.0      1.823813     5517.979676    0.0\n",
      "3  1542542340       0.5      4.256536     5514.205192    1.0\n",
      "4  1542542400       0.0      2.436331     5513.669804    0.0\n"
     ]
    }
   ],
   "source": [
    "\"\"\" DataFrame for Classification Problem \"\"\"\n",
    "\n",
    "Class_df = pd.concat([df_time,df2,BIT_Volume,BIT_Price,df3], axis=1 )\n",
    "#print(Class_df.head(10))\n",
    "\n",
    "\n",
    "Classification_DF = Class_df.dropna(axis = 0, how = 'any')\n",
    "print(Classification_DF.head())\n",
    "\n",
    "# To convert dataframe to csv please UNCOMMENT the below\n",
    "#Classification_DF.to_csv(Classification.csv, encoding='utf-8', index=False)"
   ]
  },
  {
   "cell_type": "code",
   "execution_count": 21,
   "metadata": {},
   "outputs": [
    {
     "name": "stdout",
     "output_type": "stream",
     "text": [
      "    Timestamp  POLARITY     Open_Val  Volume_(BTC)  Weighted_Price\n",
      "0  1542542160       0.0  5517.801061      1.103599     5518.610000\n",
      "1  1542542220       0.5  5517.979676      3.218251     5517.801061\n",
      "2  1542542280       0.0  5515.205192      1.823813     5517.979676\n",
      "3  1542542340       0.5  5513.669804      4.256536     5514.205192\n",
      "4  1542542400       0.0  5518.173452      2.436331     5513.669804\n"
     ]
    }
   ],
   "source": [
    "\"\"\" DataFrame for Regression Problem \"\"\"\n",
    "\n",
    "Regress_df = pd.concat([df_time,df2,BIT_Open_Price,BIT_Volume,BIT_Price], axis=1 )\n",
    "#Regress_df = pd.concat([df_time,df2,BIT_Price], axis=1 )\n",
    "\n",
    "\n",
    "Regress_df = Regress_df.dropna(axis = 0, how = 'any')\n",
    "print(Regress_df.head())\n",
    "\n",
    "# To convert dataframe to csv please UNCOMMENT the below\n",
    "#Regress_DF.to_csv(regessor.csv, encoding='utf-8', index=False)"
   ]
  },
  {
   "cell_type": "markdown",
   "metadata": {},
   "source": [
    "### CLASSIFICATION"
   ]
  },
  {
   "cell_type": "code",
   "execution_count": 22,
   "metadata": {},
   "outputs": [
    {
     "name": "stderr",
     "output_type": "stream",
     "text": [
      "c:\\users\\sukhman singh\\appdata\\local\\programs\\python\\python37-32\\lib\\site-packages\\sklearn\\preprocessing\\data.py:625: DataConversionWarning: Data with input dtype int64, float64 were all converted to float64 by StandardScaler.\n",
      "  return self.partial_fit(X, y)\n",
      "c:\\users\\sukhman singh\\appdata\\local\\programs\\python\\python37-32\\lib\\site-packages\\sklearn\\base.py:465: DataConversionWarning: Data with input dtype int64, float64 were all converted to float64 by StandardScaler.\n",
      "  return self.fit(X, y, **fit_params).transform(X)\n"
     ]
    },
    {
     "name": "stdout",
     "output_type": "stream",
     "text": [
      "[[ 378   24    0]\n",
      " [   0 1570    0]\n",
      " [   0   41 1203]] \n",
      "               precision    recall  f1-score   support\n",
      "\n",
      "        -1.0       1.00      0.94      0.97       402\n",
      "         0.0       0.96      1.00      0.98      1570\n",
      "         1.0       1.00      0.97      0.98      1244\n",
      "\n",
      "   micro avg       0.98      0.98      0.98      3216\n",
      "   macro avg       0.99      0.97      0.98      3216\n",
      "weighted avg       0.98      0.98      0.98      3216\n",
      " \n",
      " 0.020211442786069653\n",
      "0.9797885572139303\n"
     ]
    },
    {
     "name": "stderr",
     "output_type": "stream",
     "text": [
      "c:\\users\\sukhman singh\\appdata\\local\\programs\\python\\python37-32\\lib\\site-packages\\sklearn\\pipeline.py:331: DataConversionWarning: Data with input dtype int64, float64 were all converted to float64 by StandardScaler.\n",
      "  Xt = transform.transform(Xt)\n"
     ]
    }
   ],
   "source": [
    "X = Classification_DF.drop([\"Senti\"], axis =1)\n",
    "# print(X.head())\n",
    "Y = Classification_DF[\"Senti\"]\n",
    "# print(Y.head())\n",
    "\n",
    "X_train, X_test, y_train, y_test = train_test_split(X, Y, test_size=0.2, random_state = 0)\n",
    "#Build A Pipeline for SVC And StandardScaler\n",
    "pipeline = Pipeline([('scaler', StandardScaler()), ('SVM', SVC())])\n",
    "\n",
    "pipeline.fit(X_train,y_train)\n",
    "\n",
    "Predictions = pipeline.predict(X_test)\n",
    "\n",
    "c_m = metrics.confusion_matrix(y_test, Predictions)\n",
    "c_r = metrics.classification_report(y_test, Predictions)\n",
    "m_a_e = metrics.mean_absolute_error(y_test,Predictions)\n",
    "\n",
    "print(c_m,'\\n', c_r,'\\n', m_a_e)\n",
    "print(metrics.accuracy_score(y_test, Predictions))"
   ]
  },
  {
   "cell_type": "markdown",
   "metadata": {},
   "source": [
    "Plotting the Confusion Matrix"
   ]
  },
  {
   "cell_type": "code",
   "execution_count": 23,
   "metadata": {},
   "outputs": [
    {
     "data": {
      "image/png": "[encoded data removed]",
      "text/plain": [
       "<Figure size 432x288 with 1 Axes>"
      ]
     },
     "metadata": {
      "needs_background": "light"
     },
     "output_type": "display_data"
    }
   ],
   "source": [
    "import matplotlib.pyplot as plt \n",
    "import numpy as np\n",
    "%matplotlib inline\n",
    "#<<%Matplotlib will not work in normal Sublime environment\n",
    "plt.imshow(c_m, interpolation='nearest', cmap=plt.cm.Wistia)\n",
    "classNames = ['Negative','Neutral','Positive']\n",
    "plt.title('SVM Confusion Matrix - Test Data')\n",
    "plt.ylabel('True label')\n",
    "plt.xlabel('Predicted label')\n",
    "tick_marks = np.arange(len(classNames))\n",
    "plt.xticks(tick_marks, classNames, rotation=45)\n",
    "plt.yticks(tick_marks, classNames)\n",
    "\n",
    "\n",
    "for i in range(3):\n",
    "    for j in range(3):\n",
    "        plt.text(j,i, str(c_m[i][j]))\n",
    "plt.show()          "
   ]
  },
  {
   "cell_type": "markdown",
   "metadata": {},
   "source": [
    "### Applying The K_Fold Algorithm "
   ]
  },
  {
   "cell_type": "code",
   "execution_count": 32,
   "metadata": {},
   "outputs": [],
   "source": [
    "X_F = Classification_DF.iloc[:, 0:4].values\n",
    "Y = Classification_DF.iloc[:,4].values\n",
    "KF = sklearn.model_selection.StratifiedKFold( n_splits=10, shuffle=True)\n",
    "KF.get_n_splits(Y,X_F)\n",
    "#print(KF)\n",
    "# Build A function to validate the best classifier\n",
    "def folds(X, Y,Classifier, Kf):\n",
    "  y_pred = Y.copy()\n",
    "  for ii,jj in KF.split(X, Y):\n",
    "      X_train, X_test = X[ii], X[jj]\n",
    "      y_train = Y[ii]\n",
    "      clf = Classifier()\n",
    "      clf.fit(X_train,y_train)\n",
    "      y_pred[jj] = clf.predict(X_test)\n",
    "  return y_pred\n",
    "\n",
    "\n",
    "# Print The Accuracy results of Different Classifier\n",
    "print(metrics.accuracy_score(Y, folds(X_F, Y, ensemble.GradientBoostingClassifier, KF)))\n",
    "print(metrics.accuracy_score(Y, folds(X_F, Y, ensemble.RandomForestClassifier, KF)))\n",
    "print(metrics.accuracy_score(Y, folds(X_F, Y, SVC, KF)))\n",
    "\"\"\"AS Results We Got GradientBoostingClassifier and RandomForestClassifier gives accuracy of 99% that can be Overfitting \n",
    "    so, we decided to chose the SVC that we already did Above.\n",
    "\"\"\""
   ]
  },
  {
   "cell_type": "markdown",
   "metadata": {},
   "source": [
    "# Regression"
   ]
  },
  {
   "cell_type": "code",
   "execution_count": 33,
   "metadata": {},
   "outputs": [
    {
     "name": "stdout",
     "output_type": "stream",
     "text": [
      "                            OLS Regression Results                            \n",
      "==============================================================================\n",
      "Dep. Variable:                      y   R-squared:                       0.971\n",
      "Model:                            OLS   Adj. R-squared:                  0.971\n",
      "Method:                 Least Squares   F-statistic:                 1.300e+05\n",
      "Date:                Wed, 27 Mar 2019   Prob (F-statistic):               0.00\n",
      "Time:                        16:33:49   Log-Likelihood:                 5435.1\n",
      "No. Observations:               15708   AIC:                        -1.086e+04\n",
      "Df Residuals:                   15703   BIC:                        -1.082e+04\n",
      "Df Model:                           4                                         \n",
      "Covariance Type:            nonrobust                                         \n",
      "==============================================================================\n",
      "                 coef    std err          t      P>|t|      [0.025      0.975]\n",
      "------------------------------------------------------------------------------\n",
      "const      -4.731e-15      0.001  -3.46e-12      1.000      -0.003       0.003\n",
      "x1            -0.0053      0.002     -2.503      0.012      -0.009      -0.001\n",
      "x2             0.0016      0.001      1.195      0.232      -0.001       0.004\n",
      "x3             0.9813      0.002    463.442      0.000       0.977       0.985\n",
      "x4             0.0031      0.001      2.249      0.025       0.000       0.006\n",
      "==============================================================================\n",
      "Omnibus:                    26293.670   Durbin-Watson:                   1.780\n",
      "Prob(Omnibus):                  0.000   Jarque-Bera (JB):         19601052.088\n",
      "Skew:                         -11.515   Prob(JB):                         0.00\n",
      "Kurtosis:                     174.516   Cond. No.                         2.74\n",
      "==============================================================================\n",
      "\n",
      "Warnings:\n",
      "[1] Standard Errors assume that the covariance matrix of the errors is correctly specified.\n"
     ]
    }
   ],
   "source": [
    "#Regression for Prediction of Bitcoin\n",
    "\n",
    "X_feat = Regress_df.drop([\"Weighted_Price\"], axis=1)\n",
    "X_feat = X_feat.values\n",
    "Y_targ = Regress_df[\"Weighted_Price\"].values\n",
    "Y_targ = Y_targ.reshape(-1, 1)\n",
    "\n",
    "sc = StandardScaler()\n",
    "X_feat = sc.fit_transform(X_feat)\n",
    "Y_targ = sc.fit_transform(Y_targ)\n",
    "\n",
    "#Mutiple Linear Regression\n",
    "import statsmodels.api as sm\n",
    "X_Scaled1 = sm.add_constant(X_feat)\n",
    "model = sm.OLS(Y_targ, X_Scaled1)\n",
    "model_fit = model.fit()\n",
    "print(model_fit.summary())"
   ]
  },
  {
   "cell_type": "markdown",
   "metadata": {},
   "source": [
    "# Implementation of Neural Network for Reggression."
   ]
  },
  {
   "cell_type": "markdown",
   "metadata": {},
   "source": [
    "Not able to Show Results as, Python3.7 is not compatible with Keras\n",
    "##Results Will be Uploaded SOON, by creating a Virtual Environment in \"Anaconda\""
   ]
  },
  {
   "cell_type": "code",
   "execution_count": 37,
   "metadata": {},
   "outputs": [
    {
     "name": "stdout",
     "output_type": "stream",
     "text": [
      "Number of Input Layers will be:  ' 5 '\n"
     ]
    }
   ],
   "source": [
    "\"\"\"  INCOMPLETE Neural Network Implementation of Regressio/Prediction Problem \"\"\"\n",
    "\n",
    "# from keras.models import Sequential\n",
    "# from keras.layers import Dense\n",
    "\n",
    "# model = Sequential()\n",
    "\n",
    "# input_layer = Number of Features in Regression DataFrame\n",
    "num_cols = Regress_df.shape[1]\n",
    "print(\"Number of Input Layers will be: \",\"'\",num_cols,\"'\")\n",
    "\n",
    "# #Adding Layers to the model\n",
    "# model.add(Dense(150, activation='relu', input_shape=(num_cols,)))\n",
    "# model.add(Dense(150, activation='relu'))\n",
    "# model.add(Dense(150, activation='relu'))\n",
    "# model.add(Dense(1))\n",
    "\n",
    "# #Compile the model Taking Mean_Squared_error as the performance measure\n",
    "\n",
    "# model.compile(optimizer='adam', loss ='mean_squared_error')\n",
    "\n",
    "# #Fit/Train the created model\n",
    "# model.fit(train_data, test_data, validation=0.2, epochs=, callbacks=[])\n"
   ]
  }
 ],
 "metadata": {
  "kernelspec": {
   "display_name": "Python 3",
   "language": "python",
   "name": "python3"
  },
  "language_info": {
   "codemirror_mode": {
    "name": "ipython",
    "version": 3
   },
   "file_extension": ".py",
   "mimetype": "text/x-python",
   "name": "python",
   "nbconvert_exporter": "python",
   "pygments_lexer": "ipython3",
   "version": "3.7.0"
  }
 },
 "nbformat": 4,
 "nbformat_minor": 2
}
